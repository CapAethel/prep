{
 "cells": [
  {
   "cell_type": "code",
   "execution_count": 61,
   "id": "c40218b7",
   "metadata": {},
   "outputs": [],
   "source": [
    "class Employee:\n",
    "    def __init__(self,eid, name,year, basicSalary):\n",
    "        self.eid = eid\n",
    "        self.name = name\n",
    "        self.year = year\n",
    "        self.basicSalary = basicSalary\n",
    "\n",
    "    def get_salary(self):\n",
    "        return self.basicSalary\n"
   ]
  },
  {
   "cell_type": "code",
   "execution_count": 62,
   "id": "66e14b35",
   "metadata": {},
   "outputs": [],
   "source": [
    "class manager(Employee):\n",
    "\n",
    "    def get_salary(self):\n",
    "        return self.basicSalary*1.25"
   ]
  },
  {
   "cell_type": "code",
   "execution_count": 63,
   "id": "bd819d4d",
   "metadata": {},
   "outputs": [],
   "source": [
    "class DataScientist(Employee):\n",
    "    def __init__(self,eid, name,year, basicSalary,project):\n",
    "        super().__init__(eid, name, year, basicSalary)\n",
    "        self.project = project\n",
    "    def get_salary(self):\n",
    "        return self.basicSalary*1.2+self.project*1500"
   ]
  },
  {
   "cell_type": "code",
   "execution_count": 64,
   "id": "15e997f7",
   "metadata": {},
   "outputs": [],
   "source": [
    "class Developer(DataScientist):\n",
    "\n",
    "    def get_salary(self):\n",
    "        return self.basicSalary+self.project*1000"
   ]
  },
  {
   "cell_type": "code",
   "execution_count": 65,
   "id": "897c3d61",
   "metadata": {},
   "outputs": [],
   "source": [
    "def load_employee_data(file_path):\n",
    "    employees = []\n",
    "    with open(file_path, 'r') as file:\n",
    "        for line in file:\n",
    "            data = line.strip().split(',')\n",
    "            if len(data) == 4:\n",
    "                eid, name, year, basicSalary = data\n",
    "                basicSalary = float(basicSalary)\n",
    "                if eid[0] == 'E':  # Assuming 'E' indicates a employee\n",
    "                    employees.append(Employee(eid, name, year, basicSalary))\n",
    "                elif eid[0] == 'M':  # Assuming 'M' indicates a manager\n",
    "                    employees.append(manager(eid, name, year, basicSalary))\n",
    "            else:\n",
    "                eid, name, year, basicSalary, project = data\n",
    "                basicSalary = float(basicSalary)\n",
    "                project = int(project)\n",
    "                if eid[0:2] == 'DS':\n",
    "                    employees.append(DataScientist(eid, name, year, basicSalary, project))\n",
    "                elif eid[0:2] == 'DV':  # Assuming 'D' indicates a developer\n",
    "                    employees.append(Developer(eid, name, year, basicSalary, project))\n",
    "    return employees"
   ]
  },
  {
   "cell_type": "code",
   "execution_count": 67,
   "id": "16f4eafd",
   "metadata": {},
   "outputs": [
    {
     "name": "stdout",
     "output_type": "stream",
     "text": [
      "EID: M01, Name: Nguyen Van A, Year: 2020, Salary: 1250000.0\n",
      "EID: E02, Name: Nguyen Van B, Year: 2021, Salary: 1200000.0\n",
      "EID: DS03, Name: Nguyen Van C, Year: 2022, Salary: 1804500.0\n",
      "EID: DV04, Name: Nguyen Van D, Year: 2023, Salary: 1804000.0\n",
      "EID: M05, Name: Nguyen Van E, Year: 2024, Salary: 2500000.0\n",
      "EID: E06, Name: Nguyen Van F, Year: 2025, Salary: 2200000.0\n",
      "EID: DS07, Name: Nguyen Van G, Year: 2026, Salary: 3007500.0\n",
      "EID: DV08, Name: Nguyen Van H, Year: 2027, Salary: 3006000.0\n",
      "EID: E09, Name: Nguyen Van I, Year: 2028, Salary: 3500000.0\n"
     ]
    },
    {
     "name": "stderr",
     "output_type": "stream",
     "text": [
      "<>:1: SyntaxWarning: invalid escape sequence '\\p'\n",
      "<>:1: SyntaxWarning: invalid escape sequence '\\p'\n",
      "C:\\Users\\MaiPhuong\\AppData\\Local\\Temp\\ipykernel_9768\\2631614482.py:1: SyntaxWarning: invalid escape sequence '\\p'\n",
      "  loaded_employees = load_employee_data('D:\\prep\\employeeManagement\\employee.csv')\n"
     ]
    }
   ],
   "source": [
    "loaded_employees = load_employee_data('D:\\prep\\employeeManagement\\employee.csv')\n",
    "for emp in loaded_employees:\n",
    "    print(f\"EID: {emp.eid}, Name: {emp.name}, Year: {emp.year}, Salary: {emp.get_salary()}\")"
   ]
  }
 ],
 "metadata": {
  "kernelspec": {
   "display_name": "Python 3",
   "language": "python",
   "name": "python3"
  },
  "language_info": {
   "codemirror_mode": {
    "name": "ipython",
    "version": 3
   },
   "file_extension": ".py",
   "mimetype": "text/x-python",
   "name": "python",
   "nbconvert_exporter": "python",
   "pygments_lexer": "ipython3",
   "version": "3.13.2"
  }
 },
 "nbformat": 4,
 "nbformat_minor": 5
}
