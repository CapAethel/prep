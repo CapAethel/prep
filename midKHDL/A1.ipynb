{
 "cells": [
  {
   "cell_type": "code",
   "execution_count": 1,
   "id": "f9e54aa7",
   "metadata": {},
   "outputs": [],
   "source": [
    "def caesar_cipher(text:str, k:int):\n",
    "    '''\n",
    "    text: chuỗi ký tự cần mã hóa\n",
    "    k: số nguyên dương, là độ dịch chuyển của mã hóa Caesar\n",
    "    trả về chuỗi ký tự đã được mã hóa bằng mã hóa Caesar với độ dịch chuyển k\n",
    "    ví dụ:\n",
    "    text = 'abc'\n",
    "    k = 2\n",
    "    return 'cde'\n",
    "    '''\n",
    "    return \"\""
   ]
  },
  {
   "cell_type": "code",
   "execution_count": 2,
   "id": "a9eaf1ba",
   "metadata": {},
   "outputs": [],
   "source": [
    "def find_min_word(words):\n",
    "    '''\n",
    "    words: danh sách các từ đặc biệt trong này các thừ cí chứa duy nhất 1 số nguyên (hell4o, b4ig)\n",
    "    độ dài của word là độ dài của từ đó + số nguyên trong từ đó\n",
    "    ví dụ : hell8o có độ dài 6 + số nguyên 8 = 14\n",
    "    trả về từ có độ dài nhỏ nhất trong danh sách words\n",
    "    '''"
   ]
  },
  {
   "cell_type": "code",
   "execution_count": null,
   "id": "12f705aa",
   "metadata": {},
   "outputs": [],
   "source": [
    "def sort_three(arr):\n",
    "    '''\n",
    "    arr: danh sách các số nguyên\n",
    "    số chia hết cho 3 về cuối danh sách sắp xếp giảm dần\n",
    "    số còn lại lên đầu danh sách giữ nguyên thứ tự như ban đầu'''"
   ]
  }
 ],
 "metadata": {
  "kernelspec": {
   "display_name": "Python 3",
   "language": "python",
   "name": "python3"
  },
  "language_info": {
   "codemirror_mode": {
    "name": "ipython",
    "version": 3
   },
   "file_extension": ".py",
   "mimetype": "text/x-python",
   "name": "python",
   "nbconvert_exporter": "python",
   "pygments_lexer": "ipython3",
   "version": "3.13.2"
  }
 },
 "nbformat": 4,
 "nbformat_minor": 5
}
