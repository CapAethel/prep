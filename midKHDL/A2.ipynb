{
 "cells": [
  {
   "cell_type": "code",
   "execution_count": null,
   "id": "468d302a",
   "metadata": {},
   "outputs": [],
   "source": [
    "def linear_regression(x, y):\n",
    "    '''\n",
    "    x: list of x values\n",
    "    y: list of y values\n",
    "    return :\n",
    "    a(float): slope of the line\n",
    "    b(float): y-intercept of the line\n",
    "    a and b are rounded to 5 decimal places\n",
    "    '''"
   ]
  },
  {
   "cell_type": "code",
   "execution_count": null,
   "id": "fb59bc8c",
   "metadata": {},
   "outputs": [],
   "source": [
    "def calculate_mse(a,b,x,y):\n",
    "    '''\n",
    "    a: slope of the line\n",
    "    b: y-intercept of the line\n",
    "    x: list of x values\n",
    "    y: list of y values\n",
    "    return:\n",
    "    mse(float): mean squared error of the line\n",
    "    '''"
   ]
  },
  {
   "cell_type": "code",
   "execution_count": null,
   "id": "fa4dbf54",
   "metadata": {},
   "outputs": [],
   "source": [
    "def read_bill_from_file(filename):\n",
    "    '''\n",
    "    filename: tên file chứa hóa đơn\n",
    "    trả về danh sách các hóa đơn\n",
    "    mỗi hóa đơn là một tuple (bill_id, customer_id, restaurant_id, total)\n",
    "    '''\n",
    "    return []"
   ]
  },
  {
   "cell_type": "code",
   "execution_count": null,
   "id": "9d55707a",
   "metadata": {},
   "outputs": [],
   "source": [
    "def sort_restaurants_by_total(bills):\n",
    "    '''\n",
    "    bills: danh sách các hóa đơn\n",
    "    trả về danh sách các nhà hàng sắp xếp theo tổng doanh thu tăng dần\n",
    "    nếu 2 nhà hàng có doanh thu bằng nhau thì sắp xếp theo id của nhà hàng\n",
    "    '''\n",
    "    return []"
   ]
  },
  {
   "cell_type": "code",
   "execution_count": null,
   "id": "e6391467",
   "metadata": {},
   "outputs": [],
   "source": [
    "def get_loyal_customer(bills):\n",
    "    # trả về khách hàng thực hiện chi tiêu ở tất cả các cửa hàng và có số tiền thanh toán trung bình lớn nhất\n",
    "    return 0.0, 0.0"
   ]
  }
 ],
 "metadata": {
  "kernelspec": {
   "display_name": "Python 3",
   "language": "python",
   "name": "python3"
  },
  "language_info": {
   "name": "python",
   "version": "3.13.2"
  }
 },
 "nbformat": 4,
 "nbformat_minor": 5
}
