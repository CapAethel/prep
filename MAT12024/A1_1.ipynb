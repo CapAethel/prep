{
 "cells": [
  {
   "cell_type": "code",
   "execution_count": 3,
   "id": "19925d46",
   "metadata": {},
   "outputs": [],
   "source": [
    "def calculate_variance(nums):\n",
    "    '''\n",
    "    nums: list of numbers\n",
    "    return variance of nums\n",
    "    '''\n",
    "    return 0.0\n"
   ]
  },
  {
   "cell_type": "code",
   "execution_count": 4,
   "id": "33e9531e",
   "metadata": {},
   "outputs": [],
   "source": [
    "def get_price(menu:dict, order:dict):\n",
    "    '''\n",
    "    menu: dict of menu items with their prices (key: item name, value: price)\n",
    "    order: dict of ordered items with their quantities (key: item name, value: quantity)\n",
    "    This function calculates the total price of the order based on the menu.\n",
    "    return total price of the order\n",
    "    '''\n",
    "    total_price = 0.0\n",
    "    for item, quantity in order.items():\n",
    "        if item in menu:\n",
    "            total_price += menu[item] * quantity\n",
    "    return total_price"
   ]
  },
  {
   "cell_type": "code",
   "execution_count": 5,
   "id": "5c47c2d4",
   "metadata": {},
   "outputs": [],
   "source": [
    "def sort_common_decks(decks1, decks2):\n",
    "    '''\n",
    "    decks1: list[(str, str)]\n",
    "    decks2: list[(str, str)]\n",
    "    deck1, deck1 are lists of cards represented as tuples (rank, suit)\n",
    "    rank from 2 t0 9\n",
    "    suit from 'Clubs', 'Diamonds', 'Hearts', 'Spades'\n",
    "    return a list of common decks sorted by ascending rank and suit\n",
    "    if 2 card has the same rank, sort by suit(alphabetically)\n",
    "\n",
    "    '''\n",
    "    return []"
   ]
  },
  {
   "cell_type": "code",
   "execution_count": 6,
   "id": "adf63dc9",
   "metadata": {},
   "outputs": [],
   "source": [
    "def normalized_names(name:str):\n",
    "    '''\n",
    "    name cannot have numbers or special characters\n",
    "    between each word, there is a single space\n",
    "    return a normalized name with the first letter of each word capitalized\n",
    "    example:\n",
    "    name = 'Ngu9yễn tH99àNh Hả#i'\n",
    "    return 'Nguyễn Thành Hải'\n",
    "    '''\n",
    "    return \"\""
   ]
  },
  {
   "cell_type": "code",
   "execution_count": 7,
   "id": "39dbfe83",
   "metadata": {},
   "outputs": [],
   "source": [
    "def sort_common_decks2(decks1, decks2):\n",
    "    # same as sort_common_decks but using full card deck with k q j a\n",
    "    return []"
   ]
  },
  {
   "cell_type": "code",
   "execution_count": null,
   "id": "73deeda6",
   "metadata": {},
   "outputs": [],
   "source": [
    "def main():\n",
    "    menu = {\n",
    "        \"Coffee\": 2.5,\n",
    "        \"Tea\": 1.5,\n",
    "        \"Sandwich\": 3.0\n",
    "    }\n",
    "    order = {\n",
    "        \"Coffee\": 2,\n",
    "        \"Tea\": 1,\n",
    "        \"Sandwich\": 3\n",
    "    }\n",
    "    total_price = get_price(menu, order)\n",
    "    print(f\"Total price of the order: ${total_price:.2f}\")\n",
    "if __name__ == \"__main__\":\n",
    "    main()"
   ]
  }
 ],
 "metadata": {
  "kernelspec": {
   "display_name": "Python 3",
   "language": "python",
   "name": "python3"
  },
  "language_info": {
   "codemirror_mode": {
    "name": "ipython",
    "version": 3
   },
   "file_extension": ".py",
   "mimetype": "text/x-python",
   "name": "python",
   "nbconvert_exporter": "python",
   "pygments_lexer": "ipython3",
   "version": "3.13.2"
  }
 },
 "nbformat": 4,
 "nbformat_minor": 5
}
