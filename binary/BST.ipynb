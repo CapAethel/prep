{
 "cells": [
  {
   "cell_type": "code",
   "execution_count": 1,
   "id": "ebb80c82",
   "metadata": {},
   "outputs": [],
   "source": [
    "class Node:\n",
    "    def __init__(self, val=0,left=None, right=None):\n",
    "        self.val = val\n",
    "        self.left = left\n",
    "        self.right = right"
   ]
  },
  {
   "cell_type": "code",
   "execution_count": 4,
   "id": "b2b1b729",
   "metadata": {},
   "outputs": [],
   "source": [
    "class BST:\n",
    "    def __init__(self):\n",
    "        self.root = None\n",
    "    def getRoot(self):\n",
    "        return self.root\n",
    "    def addNode(self,data):\n",
    "        '''phương thức thêm 1 node với giá trị dât(dât là 1 số nguyên) vào vây\n",
    "        chú ý trường hợp khi thêm node đầu tiên vào cây, node này là root\n",
    "        '''\n",
    "    def buildTreeFromList(self, datas):\n",
    "        '''phương thức xây dựng cây từ danh sách các số nguyên\n",
    "        chú ý trường hợp khi thêm node đầu tiên vào cây, node này là root\n",
    "        '''\n",
    "    def search(self, val):\n",
    "        # phương thức tìm kiếm node có giá trị val trong cây, có thì trả về True, không thì trả về False\n",
    "        return False\n",
    "    def inorder(self):\n",
    "        '''phương thức duyệt cây theo thứ tự inorder\n",
    "        trả về danh sách các giá trị của các node theo thứ tự duyệt\n",
    "        '''\n",
    "        return []\n",
    "    def preorder(self):\n",
    "        '''phương thức duyệt cây theo thứ tự preorder\n",
    "        trả về danh sách các giá trị của các node theo thứ tự duyệt\n",
    "        '''\n",
    "        return []\n",
    "    def postorder(self):\n",
    "        '''phương thức duyệt cây theo thứ tự postorder\n",
    "        trả về danh sách các giá trị của các node theo thứ tự duyệt\n",
    "        '''\n",
    "        return []\n",
    "    def getHeight(self):\n",
    "        '''phương thức trả về chiều cao của cây\n",
    "        chú ý trường hợp cây rỗng thì trả về -1\n",
    "        '''\n",
    "        return -1\n",
    "    def getSumLeftChild(self, node):\n",
    "        '''phương thức trả về tổng giá trị của các node con bên trái của node\n",
    "        chú ý trường hợp node là None thì trả về 0\n",
    "        '''\n",
    "        return 0\n",
    "    def getSumRightChild(self, node):\n",
    "        '''phương thức trả về tổng giá trị của các node con bên phải của node\n",
    "        chú ý trường hợp node là None thì trả về 0\n",
    "        '''\n",
    "        return 0\n",
    "    def getTilt(self):\n",
    "        '''phương thức trả về độ nghiêng của cây\n",
    "        độ nghiêng của cây là tổng độ nghiêng của tất cả các node trong cây\n",
    "        độ nghiêng của 1 node là |tổng giá trị các node con bên trái - tổng giá trị các node con bên phải|\n",
    "        chú ý trường hợp cây rỗng thì trả về 0\n",
    "        '''\n",
    "        return 0\n"
   ]
  },
  {
   "cell_type": "code",
   "execution_count": 7,
   "id": "58b88455",
   "metadata": {},
   "outputs": [
    {
     "name": "stdout",
     "output_type": "stream",
     "text": [
      "Inorder: []\n",
      "Preorder: []\n",
      "Postorder: []\n",
      "search(7): False\n",
      "search(20): False\n",
      "sum left child of root: 0\n",
      "sum right child of root: 0\n",
      "Height: -1\n",
      "Tilt: 0\n"
     ]
    }
   ],
   "source": [
    "if __name__ == \"__main__\":\n",
    "    bst = BST()\n",
    "    bst.addNode(10)\n",
    "    bst.addNode(5)\n",
    "    bst.addNode(15)\n",
    "    bst.addNode(3)\n",
    "    bst.addNode(7)\n",
    "    bst.addNode(12)\n",
    "    bst.addNode(18)\n",
    "\n",
    "    print(\"Inorder:\", bst.inorder())\n",
    "    print(\"Preorder:\", bst.preorder())\n",
    "    print(\"Postorder:\", bst.postorder())\n",
    "    print(\"search(7):\", bst.search(7))\n",
    "    print(\"search(20):\", bst.search(20))\n",
    "    print(\"sum left child of root:\", bst.getSumLeftChild(bst.getRoot()))\n",
    "    print(\"sum right child of root:\", bst.getSumRightChild(bst.getRoot()))\n",
    "    print(\"Height:\", bst.getHeight())\n",
    "    print(\"Tilt:\", bst.getTilt())"
   ]
  }
 ],
 "metadata": {
  "kernelspec": {
   "display_name": "Python 3",
   "language": "python",
   "name": "python3"
  },
  "language_info": {
   "codemirror_mode": {
    "name": "ipython",
    "version": 3
   },
   "file_extension": ".py",
   "mimetype": "text/x-python",
   "name": "python",
   "nbconvert_exporter": "python",
   "pygments_lexer": "ipython3",
   "version": "3.13.2"
  }
 },
 "nbformat": 4,
 "nbformat_minor": 5
}
