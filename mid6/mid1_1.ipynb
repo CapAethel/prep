{
 "cells": [
  {
   "cell_type": "code",
   "execution_count": 2,
   "id": "d90585c2",
   "metadata": {},
   "outputs": [],
   "source": [
    "def getTopWord(filename, n):\n",
    "    '''\n",
    "    return list of n most frequent words in file\n",
    "    in file, words are separated by space\n",
    "    list is sorted by frequency, then alphabetically\n",
    "    if 2 words have same frequency, the one that comes later in alphabet is preferred\n",
    "    list is sorted in ascending order of frequency\n",
    "    '''"
   ]
  },
  {
   "cell_type": "code",
   "execution_count": 3,
   "id": "0059ce90",
   "metadata": {},
   "outputs": [],
   "source": [
    "def getVector(filename, topword):\n",
    "    '''\n",
    "    trả lại danh sách số nguyên tương ứng với vector biểu diễn văn bản trong file\n",
    "    phần tử thứ i trong danh sách là số lần xuất hiện của từ topword[i] trong file\n",
    "    '''"
   ]
  },
  {
   "cell_type": "code",
   "execution_count": 4,
   "id": "b67dc4b2",
   "metadata": {},
   "outputs": [],
   "source": [
    "def getCosineSim(u,v):\n",
    "    '''\n",
    "    tính cosine góc tạo bởi 2 vector u,v\n",
    "    cosine(u,v) = (u.v)/(|u|*|v|)\n",
    "    ví dụ với u=[1,2,3], v=[4,5,6] thì\n",
    "    cosine(u,v) = (1*4 + 2*5 + 3*6)/sqrt(1^2+2^2+3^2)*sqrt(4^2+5^2+6^2)\n",
    "    '''"
   ]
  },
  {
   "cell_type": "code",
   "execution_count": 5,
   "id": "fc3b63bd",
   "metadata": {},
   "outputs": [],
   "source": [
    "def sinhTaylor(x,e):\n",
    "    '''\n",
    "    tính sin x bằng công thức Taylor\n",
    "    e là sai số xác định thời điểm dừng thuật toán\n",
    "    thuật toán dừng lại tại số hạng pi nếu |pi - pi-1| < e\n",
    "    '''"
   ]
  },
  {
   "cell_type": "code",
   "execution_count": 6,
   "id": "72ba34ef",
   "metadata": {},
   "outputs": [],
   "source": [
    "def main():\n",
    "    filename = 'text.txt'\n",
    "    n = 5\n",
    "    topwords = getTopWord(filename, n)\n",
    "    print(f\"Top {n} words: {topwords}\")\n",
    "\n",
    "    vector = getVector(filename, topwords)\n",
    "    print(f\"Vector representation: {vector}\")\n",
    "\n",
    "    u = [1, 2, 3]\n",
    "    v = [4, 5, 6]\n",
    "    cosine_sim = getCosineSim(u, v)\n",
    "    print(f\"Cosine similarity: {cosine_sim}\")\n",
    "\n",
    "    x = 1.0\n",
    "    e = 0.0001\n",
    "    sin_x = sinhTaylor(x, e)\n",
    "    print(f\"sin({x}) using Taylor series: {sin_x}\")"
   ]
  }
 ],
 "metadata": {
  "kernelspec": {
   "display_name": "Python 3",
   "language": "python",
   "name": "python3"
  },
  "language_info": {
   "codemirror_mode": {
    "name": "ipython",
    "version": 3
   },
   "file_extension": ".py",
   "mimetype": "text/x-python",
   "name": "python",
   "nbconvert_exporter": "python",
   "pygments_lexer": "ipython3",
   "version": "3.13.2"
  }
 },
 "nbformat": 4,
 "nbformat_minor": 5
}
