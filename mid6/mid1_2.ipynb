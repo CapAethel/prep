{
 "cells": [
  {
   "cell_type": "code",
   "execution_count": 2,
   "id": "41566b20",
   "metadata": {},
   "outputs": [],
   "source": [
    "class Fraction:\n",
    "    '''\n",
    "    Lớp thực hiện tạo đối tượng phân số cùng với các phép toán phân số , tử số và mẫu số là số nguyên\n",
    "    các phép toán bao gồm cộng trừ nhân chia\n",
    "    các phép toán trả về phân số tối giản\n",
    "    '''\n",
    "    def __init__(self, numerator, denominator):\n",
    "        if denominator == 0:\n",
    "            raise ValueError(\"Mẫu số không thể là 0\")\n",
    "        self.numerator = numerator\n",
    "        self.denominator = denominator\n",
    "        self.simplify()\n",
    "    def simplify(self):\n",
    "        from math import gcd\n",
    "        common_divisor = gcd(self.numerator, self.denominator)\n",
    "        self.numerator //= common_divisor\n",
    "        self.denominator //= common_divisor\n",
    "        if self.denominator < 0:\n",
    "            self.numerator = -self.numerator\n",
    "            self.denominator = -self.denominator\n",
    "    def __str__(self):\n",
    "        return f\"{self.numerator}/{self.denominator}\"\n",
    "    def __add__(self, other):\n",
    "        if not isinstance(other, Fraction):\n",
    "            raise TypeError(\"Phép cộng chỉ hỗ trợ với đối tượng Fraction\")\n",
    "        new_numerator = self.numerator * other.denominator + other.numerator * self.denominator\n",
    "        new_denominator = self.denominator * other.denominator\n",
    "        return Fraction(new_numerator, new_denominator)\n",
    "    def __sub__(self, other):\n",
    "        if not isinstance(other, Fraction):\n",
    "            raise TypeError(\"Phép trừ chỉ hỗ trợ với đối tượng Fraction\")\n",
    "        new_numerator = self.numerator * other.denominator - other.numerator * self.denominator\n",
    "        new_denominator = self.denominator * other.denominator\n",
    "        return Fraction(new_numerator, new_denominator)\n",
    "    def __mul__(self, other):\n",
    "        if not isinstance(other, Fraction):\n",
    "            raise TypeError(\"Phép nhân chỉ hỗ trợ với đối tượng Fraction\")\n",
    "        new_numerator = self.numerator * other.numerator\n",
    "        new_denominator = self.denominator * other.denominator\n",
    "        return Fraction(new_numerator, new_denominator)\n",
    "    def __truediv__(self, other):\n",
    "        if not isinstance(other, Fraction):\n",
    "            raise TypeError(\"Phép chia chỉ hỗ trợ với đối tượng Fraction\")\n",
    "        if other.numerator == 0:\n",
    "            raise ValueError(\"Không thể chia cho phân số có tử số bằng 0\")\n",
    "        new_numerator = self.numerator * other.denominator\n",
    "        new_denominator = self.denominator * other.numerator\n",
    "        return Fraction(new_numerator, new_denominator)\n",
    "    "
   ]
  },
  {
   "cell_type": "code",
   "execution_count": 4,
   "id": "0f855d3a",
   "metadata": {},
   "outputs": [
    {
     "name": "stdout",
     "output_type": "stream",
     "text": [
      "a = 1/2, b = 3/4\n",
      "a + b = 5/4\n",
      "a - b = -1/4\n",
      "a * b = 3/8\n",
      "a / b = 2/3\n"
     ]
    }
   ],
   "source": [
    "def main():\n",
    "    a = Fraction(1, 2)\n",
    "    b = Fraction(3, 4)\n",
    "    print(f\"a = {a}, b = {b}\")\n",
    "    print(f\"a + b = {a.__add__(b)}\")\n",
    "    print(f\"a - b = {a - b}\")\n",
    "    print(f\"a * b = {a * b}\")\n",
    "    print(f\"a / b = {a / b}\")\n",
    "if __name__ == \"__main__\":\n",
    "    main()"
   ]
  }
 ],
 "metadata": {
  "kernelspec": {
   "display_name": "Python 3",
   "language": "python",
   "name": "python3"
  },
  "language_info": {
   "codemirror_mode": {
    "name": "ipython",
    "version": 3
   },
   "file_extension": ".py",
   "mimetype": "text/x-python",
   "name": "python",
   "nbconvert_exporter": "python",
   "pygments_lexer": "ipython3",
   "version": "3.13.2"
  }
 },
 "nbformat": 4,
 "nbformat_minor": 5
}
