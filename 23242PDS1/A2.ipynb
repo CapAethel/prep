{
 "cells": [
  {
   "cell_type": "code",
   "execution_count": null,
   "id": "b1a70520",
   "metadata": {},
   "outputs": [],
   "source": [
    "class Driver:\n",
    "    '''\n",
    "    class represent a driver with the following:\n",
    "        name: str\n",
    "        did : str : id of drive like : 'A12345'\n",
    "        years : int : number of years driving\n",
    "    '''\n",
    "    def __init__(self, name, did, years) -> None:\n",
    "        self.name = name\n",
    "        self.did = did\n",
    "        self.years = years\n",
    "        self.set_client()\n",
    "        self.set_salary(self.get_basic_salary())\n",
    "    def set_client(self):\n",
    "        self.__client = self.did[0]\n",
    "    def get_client(self):\n",
    "        return self.__client\n",
    "    def set_salary(self, salary):\n",
    "        self.__salary = salary\n",
    "    def get_basic_salary(self):\n",
    "        '''\n",
    "        return basic salary of driver\n",
    "        all drivers have the same basic salary of 3000000\n",
    "        support based on years and skill:\n",
    "        - drivers with driver license C, D, E have bonus of 500000, 700000, 2000000 respectively\n",
    "        - drivers with <= 5 years get 200000 raise every year\n",
    "        - drivers with > 5 years get 600000 raise every year\n",
    "        example: {name : john, did:D32425, years: 4} => basic salary = 4500000\n",
    "        '''\n",
    "        return 0\n",
    "    def get_salary(self):\n",
    "        return self.__salary\n",
    "    def __str__(self) -> str:\n",
    "        return f'{self.name} {self.did} {self.years} {self.get_client()} {self.get_salary()}'"
   ]
  },
  {
   "cell_type": "code",
   "execution_count": null,
   "id": "c184a331",
   "metadata": {},
   "outputs": [],
   "source": [
    "class Ticket:\n",
    "    '''\n",
    "    lớp mô tả 1 hóa đơn vận tải khách bâo gồm các thông tin sau :\n",
    "    - tid(int) : id của hóa đơn\n",
    "    - date(int) : ngày lập hóa đơn trong tháng [1-30]\n",
    "    - start_time(int): [1-23] thời gian bắt đầu đón khách \n",
    "    - end_time(int): [1-23] thời gian trả khách\n",
    "    - num_seats(int): số ghế mà xe có (nằm trong các loại sau : 4 7 16 29 49)\n",
    "    - num_customers(int ) : số lượng khách\n",
    "    - vote(int):[1-5] đánh giá của khách hàng về chuyến đi\n",
    "    - driver(Driver): người lái xe thuộc lớp Driver, cung cấp thông tin về tài xế thực hiện chuyến xe\n",
    "    '''\n",
    "    def __init__(self, tid, date, start_time, end_time, num_seats, num_customers, vote, driver) -> None:\n",
    "        self.tid = tid\n",
    "        self.date = date\n",
    "        self.start_time = start_time\n",
    "        self.end_time = end_time\n",
    "        self.num_seats = num_seats\n",
    "        self.num_customers = num_customers\n",
    "        self.vote = vote\n",
    "        self.driver = driver\n",
    "        self.reward()\n",
    "    def reward(self):\n",
    "        '''\n",
    "        tính tiền thưởng phạt cho tài xế sau mỗi hóa đơn\n",
    "        với mỗi hóa đơn có vote 5 sao sẽ được thưởng 200000 cho hóa đơn đó\n",
    "        nếu thời gian di chuyển (end - start) > 9: lái xe được hỗ trợ 100000 / mỗi giờ tăng thêm\n",
    "        nếu vote <= 2 : phạt 300000\n",
    "        tiền thưởng phạt cộng trừ trực tiếp vào lương của tài xế\n",
    "        gợi ý : dùng hàm get_salary của lớp Driver để lấy mức lương hiện tại\n",
    "        '''\n",
    "    def __str__(self) -> str:\n",
    "        return f'{self.tid} {self.date} {self.start_time} {self.end_time} {self.num_seats} {self.num_customers} {self.vote} {self.driver}'"
   ]
  },
  {
   "cell_type": "code",
   "execution_count": null,
   "id": "df010275",
   "metadata": {},
   "outputs": [],
   "source": [
    "def read_driver_from_file(filename, list_driver):\n",
    "    # hàm đọc dữ liệu về driver\n",
    "    # đọc theo từng dòng, mỗi dòng có định dạng: name did years\n",
    "    # trả về danh sách các đối tượng Driver\n",
    "    # chú ý kiểu dữ liệu của từng biến\n",
    "    return []"
   ]
  },
  {
   "cell_type": "code",
   "execution_count": null,
   "id": "3b3cdcb7",
   "metadata": {},
   "outputs": [],
   "source": [
    "def read_ticket_from_file(filename):\n",
    "    # hàm đọc dữ liệu về ticket\n",
    "    # đọc theo từng dòng, mỗi dòng có định dạng: tid did date stime etime num_seats num_customers vote\n",
    "    # trả về danh sách các đối tượng Ticket\n",
    "    # chú ý kiểu dữ liệu của từng biến và cách tạo đối tượng Driver từ thông tin trong ticket\n",
    "    # lưu ý : thuộc tính driver của lớp ticket là một đối tượng Driver, có did tương ứng với did được cung cấp nêu trên\n",
    "    # đối tượng này được lấy ra từ list_driver có did tương ứng\n",
    "    return []"
   ]
  },
  {
   "cell_type": "code",
   "execution_count": null,
   "id": "77450bb4",
   "metadata": {},
   "outputs": [],
   "source": [
    "def calculate_mean_absolute_deviation(list_tickets):\n",
    "    # tính mad về thời gian di chuyển của tất cả các hóa đơn\n",
    "    # thời gian di chuyển được tính bằng end_time - start_time\n",
    "    return 0.0"
   ]
  },
  {
   "cell_type": "code",
   "execution_count": null,
   "id": "1965105c",
   "metadata": {},
   "outputs": [],
   "source": [
    "def calculate_mean_salary_in_range(adate, bdate, list_tickets):\n",
    "    '''\n",
    "    tính lương trung bình của các tài xế có hóa đơn trong khoảng thời gian từ adate đến bdate\n",
    "    - adate, bdate là ngày trong tháng [1-30]\n",
    "    - trả về lương trung bình của các tài xế có hóa đơn trong khoảng thời gian này\n",
    "    - nếu không có hóa đơn nào trong khoảng thời gian này thì trả về 0.0\n",
    "    - lưu ý : không lấy 2 ngày adate và bdate\n",
    "    '''\n",
    "    return 0.0"
   ]
  },
  {
   "cell_type": "code",
   "execution_count": null,
   "id": "e808ac61",
   "metadata": {},
   "outputs": [],
   "source": [
    "def calculate_mean_customer_by_client(list_tickets, client_type):\n",
    "    '''\n",
    "    tính trung bình số lượng khách hàng theo từng loại bằng của tài xế\n",
    "    - trả về trung bình số lượng khách hàng của loại bằng đó\n",
    "    '''\n",
    "    return 0.0"
   ]
  },
  {
   "cell_type": "code",
   "execution_count": null,
   "id": "c564713c",
   "metadata": {},
   "outputs": [],
   "source": [
    "def calculate_mean_squared_error_vote(list_tickets, predict_vote):\n",
    "    '''\n",
    "    hàm tính và trả về giá trị mse của chỉ số vote dựa trên giá trị dự đoán\n",
    "    predict_vote là 1 danh sách các giá trị dự đoán cho các hóa đơn\n",
    "    ví dụ predict_vote[i] là giá trị dự đoán vote cho hóa đơn thứ i trong list_tickets\n",
    "\n",
    "    '''\n",
    "    return 0.0"
   ]
  },
  {
   "cell_type": "code",
   "execution_count": null,
   "id": "027d29bf",
   "metadata": {},
   "outputs": [],
   "source": [
    "def find_cheated_drivers(list_tickets):\n",
    "    '''\n",
    "    hàm tìm các tài xế có hành vi gian lận\n",
    "    - gian lận được hiểu là : số lượng khách hàng > số khách bằng lái cho phép\n",
    "    - trả về tên, id, số hành khách hàng của tài xế gian lận\n",
    "    - chỉ tồn tại duy nhất 1 hóa đơn có 1 tài xế như vậy\n",
    "    - client nằm trong 5 loại sau : a b c d e\n",
    "    a <= 4 chỗ\n",
    "    b <= 7 chỗ\n",
    "    c <= 16 chỗ\n",
    "    d <= 29 chỗ\n",
    "    e <= 49 chỗ\n",
    "    '''\n",
    "    return None"
   ]
  },
  {
   "cell_type": "code",
   "execution_count": null,
   "id": "0078f0c4",
   "metadata": {},
   "outputs": [],
   "source": [
    "def get_top_driver_from_vote(list_tickets):\n",
    "    # trả về danh sách 10 id của các tài xế có số lượng vote cao nhất , nếu 2 tài xế có cùng vote thì xếp theo did\n",
    "    return []"
   ]
  }
 ],
 "metadata": {
  "kernelspec": {
   "display_name": "Python 3",
   "language": "python",
   "name": "python3"
  },
  "language_info": {
   "name": "python",
   "version": "3.13.2"
  }
 },
 "nbformat": 4,
 "nbformat_minor": 5
}
