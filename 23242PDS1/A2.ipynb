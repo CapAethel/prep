{
 "cells": [
  {
   "cell_type": "code",
   "execution_count": null,
   "id": "b1a70520",
   "metadata": {},
   "outputs": [],
   "source": [
    "class Driver:\n",
    "    '''\n",
    "    class represent a driver with the following:\n",
    "        name: str\n",
    "        did : str : id of drive like : 'A12345'\n",
    "        years : int : number of years driving\n",
    "    '''\n",
    "    def __init__(self, name, did, years) -> None:\n",
    "        self.name = name\n",
    "        self.did = did\n",
    "        self.years = years\n",
    "        self.set_client()\n",
    "        self.set_salary(self.get_basic_salary())\n",
    "    def set_client(self):\n",
    "        self.__client = self.did[0]\n",
    "    def get_client(self):\n",
    "        return self.__client\n",
    "    def set_salary(self, salary):\n",
    "        self.__salary = salary\n",
    "    def get_basic_salary(self):\n",
    "        '''\n",
    "        return basic salary of driver\n",
    "        all drivers have the same basic salary of 3000000\n",
    "        support based on years and skill:\n",
    "        - drivers with driver license C, D, E have bonus of 500000, 700000, 2000000 respectively\n",
    "        - drivers with <= 5 years get 200000 raise every year\n",
    "        - drivers with > 5 years get 600000 raise every year\n",
    "        example: {name : john, did:D32425, years: 4} => basic salary = 4500000\n",
    "        '''\n",
    "        return 0\n",
    "    def get_salary(self):\n",
    "        return self.__salary\n",
    "    def __str__(self) -> str:\n",
    "        return f'{self.name} {self.did} {self.years} {self.get_client()} {self.get_salary()}'"
   ]
  },
  {
   "cell_type": "code",
   "execution_count": null,
   "id": "c184a331",
   "metadata": {},
   "outputs": [],
   "source": []
  }
 ],
 "metadata": {
  "kernelspec": {
   "display_name": "Python 3",
   "language": "python",
   "name": "python3"
  },
  "language_info": {
   "name": "python",
   "version": "3.13.2"
  }
 },
 "nbformat": 4,
 "nbformat_minor": 5
}
