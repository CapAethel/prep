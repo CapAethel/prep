{
 "cells": [
  {
   "cell_type": "code",
   "execution_count": null,
   "id": "e420064e",
   "metadata": {},
   "outputs": [],
   "source": [
    "def max_pooling(arr):\n",
    "    # do max pooling with window size 2 \n",
    "    "
   ]
  },
  {
   "cell_type": "code",
   "execution_count": null,
   "id": "e401d91b",
   "metadata": {},
   "outputs": [],
   "source": [
    "def find_anagram_index(s,x):\n",
    "    '''\n",
    "    y is called anagram of x if y can be formed by rearranging the letters of x\n",
    "    find and return all indices of s so that from index i we can get a substring that is anagram of x\n",
    "    \n",
    "    '''"
   ]
  },
  {
   "cell_type": "code",
   "execution_count": null,
   "id": "d375074e",
   "metadata": {},
   "outputs": [],
   "source": [
    "def sort_common(a,b):\n",
    "    ''' \n",
    "    a,b are 2 lists that contains tuples like ('a', 1), ('b', 2), ...\n",
    "    first is the char, second is the count of that char appearance\n",
    "    each tuple is unique\n",
    "    return a list of tuples that appears in both a and b\n",
    "    sorted alphabetically by first element of tuple\n",
    "    '''"
   ]
  },
  {
   "cell_type": "code",
   "execution_count": null,
   "id": "be79f249",
   "metadata": {},
   "outputs": [],
   "source": [
    "def validate_mobile_number(list_mobile_number):\n",
    "    '''\n",
    "    list_mobile_number: a list of tuples:\n",
    "    (sdt, address, servicer)\n",
    "    sdt(str): mobile number\n",
    "    address(str): address of the mobile number\n",
    "    servicer(str): name of the mobile service provider\n",
    "    a number is valid if :\n",
    "    - the servicer is Viettel: first 3 numbers are ['096','097','098']\n",
    "    - the servicer is VNPT : first 3 numbers are ['089','090','093']\n",
    "    - address is HN : sum of last 4 nums is odd\n",
    "    - address is HCM : sum of last 4 nums is even\n",
    "    output: list bool of the same length as input list\n",
    "    '''\n",
    "    return []"
   ]
  }
 ],
 "metadata": {
  "kernelspec": {
   "display_name": "Python 3",
   "language": "python",
   "name": "python3"
  },
  "language_info": {
   "name": "python",
   "version": "3.13.2"
  }
 },
 "nbformat": 4,
 "nbformat_minor": 5
}
